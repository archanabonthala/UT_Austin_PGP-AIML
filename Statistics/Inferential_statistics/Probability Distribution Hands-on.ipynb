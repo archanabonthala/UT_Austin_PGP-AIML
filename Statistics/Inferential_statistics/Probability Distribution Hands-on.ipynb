{
 "cells": [
  {
   "cell_type": "markdown",
   "metadata": {},
   "source": [
    "# 1.You flip a fair coin 10 times. What is the probability of getting 8 or more heads? "
   ]
  },
  {
   "cell_type": "code",
   "execution_count": 23,
   "metadata": {},
   "outputs": [
    {
     "data": {
      "text/plain": [
       "0.0546875"
      ]
     },
     "execution_count": 23,
     "metadata": {},
     "output_type": "execute_result"
    }
   ],
   "source": [
    "#Binomial dstribution\n",
    "n=10\n",
    "p=0.5\n",
    "x=[8,9,10]\n",
    "#p(8)+p(9)+p(10)\n",
    "import numpy as np\n",
    "import scipy.stats as stats\n",
    "import matplotlib.pyplot as plt\n",
    "\n",
    "sum(stats.binom.pmf(x,n,p))\n"
   ]
  },
  {
   "cell_type": "markdown",
   "metadata": {},
   "source": [
    "# 2. The probability that you will win a certain game is 0.3. You play the game 20 times. What is the mean of this binomial distribution?\n"
   ]
  },
  {
   "cell_type": "code",
   "execution_count": 24,
   "metadata": {},
   "outputs": [
    {
     "data": {
      "text/plain": [
       "6.0"
      ]
     },
     "execution_count": 24,
     "metadata": {},
     "output_type": "execute_result"
    }
   ],
   "source": [
    "mean_game = 0.3*20\n",
    "mean_game"
   ]
  },
  {
   "cell_type": "markdown",
   "metadata": {},
   "source": [
    "# 3. An automatic camera records the number of cars running a red light at an intersection (that is, the cars were going through when the red light was against the car). Analysis of the data shows that on average 15% of light changes record a car running a red light. Assume that the data has a binomial distribution. What is theprobability that in 20 light changes there will be exactly three (3) cars running a red light?"
   ]
  },
  {
   "cell_type": "code",
   "execution_count": 25,
   "metadata": {},
   "outputs": [
    {
     "name": "stdout",
     "output_type": "stream",
     "text": [
      "0.15\n"
     ]
    },
    {
     "data": {
      "text/plain": [
       "array([0.2428289])"
      ]
     },
     "execution_count": 25,
     "metadata": {},
     "output_type": "execute_result"
    }
   ],
   "source": [
    "n =20\n",
    "k = [3]\n",
    "p = 0.15\n",
    "print(p)\n",
    "stats.binom.pmf(k,n,p)\n",
    "#0.24282889614926725"
   ]
  },
  {
   "cell_type": "markdown",
   "metadata": {},
   "source": [
    "# 4. There are 15 sets of traffic lights on the journey.The probability that a driver must stop at any one traffic light coming to alliance University is 0.3  \n",
    "\n",
    "a) What is the probability that a student must stop at exactly 2 of the 15 sets oftraffic lights? \n",
    "\n",
    "b) What is the probability that a student will be stopped at 1 or more of the 15sets of traffic lights? "
   ]
  },
  {
   "cell_type": "code",
   "execution_count": 26,
   "metadata": {},
   "outputs": [
    {
     "name": "stdout",
     "output_type": "stream",
     "text": [
      "0.0915601148346156\n",
      "0.9952524384900594\n"
     ]
    }
   ],
   "source": [
    "p = 0.3\n",
    "n = 15\n",
    "k = np.arange(0,16)\n",
    "binom = stats.binom.pmf(k,n,p)\n",
    "print(binom[2])\n",
    "print(sum(binom[1:]))"
   ]
  },
  {
   "cell_type": "markdown",
   "metadata": {},
   "source": [
    "# 5. What is the area under the curve of a probability distribution? Explain."
   ]
  },
  {
   "cell_type": "code",
   "execution_count": null,
   "metadata": {},
   "outputs": [],
   "source": []
  },
  {
   "cell_type": "markdown",
   "metadata": {},
   "source": [
    "# 6. My Bank has a large Credit Card portfolio. Based on empirical data, they have found that 60% of the customers pay their bill on time. If a sample of 10 accounts is selected from the current database, construct the Probability Distribution of accounts paying on time.\n",
    "Hint: Make use of Function used in Excel or R"
   ]
  },
  {
   "cell_type": "code",
   "execution_count": 27,
   "metadata": {},
   "outputs": [
    {
     "name": "stdout",
     "output_type": "stream",
     "text": [
      "[1.04857600e-04 1.57286400e-03 1.06168320e-02 4.24673280e-02\n",
      " 1.11476736e-01 2.00658125e-01 2.50822656e-01 2.14990848e-01\n",
      " 1.20932352e-01 4.03107840e-02 6.04661760e-03]\n"
     ]
    },
    {
     "data": {
      "text/plain": [
       "1.0000000000000007"
      ]
     },
     "execution_count": 27,
     "metadata": {},
     "output_type": "execute_result"
    }
   ],
   "source": [
    "n = 10\n",
    "k = np.arange(0,11)\n",
    "p = 0.6\n",
    "\n",
    "binom = stats.binom.pmf(k,n,p)\n",
    "print(binom)\n",
    "sum(binom)"
   ]
  },
  {
   "cell_type": "markdown",
   "metadata": {},
   "source": [
    "# 7. If the likelihood of a tagged order form is 0.1, What is the probability that there are three tagged order forms in the sample of four?\n",
    "Hint: Use Binomial distribution equation"
   ]
  },
  {
   "cell_type": "code",
   "execution_count": 28,
   "metadata": {},
   "outputs": [
    {
     "name": "stdout",
     "output_type": "stream",
     "text": [
      "[0.0036]\n"
     ]
    }
   ],
   "source": [
    "p = 0.1\n",
    "k = [3]\n",
    "n = 4\n",
    "binom = stats.binom.pmf(k,n,p)\n",
    "print(binom)"
   ]
  },
  {
   "cell_type": "markdown",
   "metadata": {},
   "source": [
    "# 8. Determine the following:\n",
    "\n",
    "a) For n = 4 and p = 0.12, what is P(X = 0)?\n",
    "\n",
    "b) For n = 6 and p = 0.83, what is P(X = 5)?"
   ]
  },
  {
   "cell_type": "code",
   "execution_count": 29,
   "metadata": {},
   "outputs": [
    {
     "name": "stdout",
     "output_type": "stream",
     "text": [
      "0.59969536\n",
      "0.4017821455860002\n"
     ]
    }
   ],
   "source": [
    "n = 4\n",
    "p = 0.12\n",
    "k = np.arange(0,6)\n",
    "print(stats.binom.pmf(k,n,p)[0])\n",
    "\n",
    "n = 6\n",
    "p = 0.83\n",
    "k = np.arange(0,6)\n",
    "print(stats.binom.pmf(k,n,p)[5])\n",
    "\n",
    "#0.59969536\n",
    "#0.4017821455860002"
   ]
  },
  {
   "cell_type": "markdown",
   "metadata": {},
   "source": [
    "# 9.Determine the mean and standard deviation of the variable X in each of the following binomial distributions:\n",
    "\n",
    "a) n = 4 and p = 0.10\n",
    "\n",
    "b) n = 5 and p = 0.80"
   ]
  },
  {
   "cell_type": "code",
   "execution_count": 32,
   "metadata": {},
   "outputs": [
    {
     "name": "stdout",
     "output_type": "stream",
     "text": [
      "0.4 0.6000000000000001\n",
      "4.0 0.8944271909999157\n"
     ]
    }
   ],
   "source": [
    "n1 = 4\n",
    "p1 = 0.10\n",
    "mean1 = n1*p1\n",
    "sd1 = np.sqrt(n1*p1*(1-p1))\n",
    "print(mean1,sd1)\n",
    "\n",
    "n2 = 5\n",
    "p2 = 0.8\n",
    "mean2 = n2*p2\n",
    "sd2 = np.sqrt(n2*p2*(1-p2))\n",
    "print(mean2,sd2)\n",
    "\n",
    "#Means: 0.4 4.0\n",
    "#Std deviations : 0.6000000000000001 0.8944271909999159"
   ]
  },
  {
   "cell_type": "markdown",
   "metadata": {},
   "source": [
    "# 10. Assume a poisson distribution with lambda = 5.0. What is the probability that\n",
    "a) X <= 1?\n",
    "\n",
    "b) X > 1?"
   ]
  },
  {
   "cell_type": "code",
   "execution_count": 33,
   "metadata": {},
   "outputs": [
    {
     "name": "stdout",
     "output_type": "stream",
     "text": [
      "0.040427681994512805\n",
      "0.9595723180054871\n"
     ]
    }
   ],
   "source": [
    "a = stats.poisson.pmf(0,5) + stats.poisson.pmf(1,5)\n",
    "print(a)\n",
    "b = 1-a\n",
    "print(b)\n",
    "#0.040427681994512805\n",
    "#0.9595723180054871"
   ]
  },
  {
   "cell_type": "markdown",
   "metadata": {},
   "source": [
    "# 11. The number of work related injuries per month in a manufacturing plant is known to follow a Poisson distribution, with a mean of 2.5 work-related injuries a month.\n",
    "\n",
    "a) What is the probability that in a given month, no work-related injuries occur?\n",
    "\n",
    "b) That at least one work- related injury occurs?\n",
    "\n",
    "Hint: Use Poisson distribution equation, find X = 0, Given lambda = 2.5"
   ]
  },
  {
   "cell_type": "code",
   "execution_count": 34,
   "metadata": {},
   "outputs": [
    {
     "name": "stdout",
     "output_type": "stream",
     "text": [
      "0.0820849986238988\n",
      "0.9179150013761012\n"
     ]
    }
   ],
   "source": [
    "a = stats.poisson.pmf(0,2.5)\n",
    "print(a)\n",
    "b = 1-a\n",
    "print(b)\n",
    "\n",
    "\n",
    "#required probability for part a: 0.0820849986238988\n",
    "#required probability for part b: 0.9179150013761012"
   ]
  },
  {
   "cell_type": "markdown",
   "metadata": {},
   "source": [
    "# 12. A 5-litre bucket of water is taken from a swamp. The water contains 75 mosquito larvae. A 200mL flask of water is taken form the bucket for further analysis. What is\n",
    "\n",
    "a) the expected number of larvae in the flask?\n",
    "\n",
    "b) the probability that the flask contains at least one mosquito lava?"
   ]
  },
  {
   "cell_type": "code",
   "execution_count": 37,
   "metadata": {},
   "outputs": [
    {
     "name": "stdout",
     "output_type": "stream",
     "text": [
      "3.0\n",
      "0.950212931632136\n"
     ]
    }
   ],
   "source": [
    "#5000 - 75\n",
    "#200 - ?\n",
    "a = (200/5000)*75\n",
    "print(a)\n",
    "\n",
    "print(1-stats.poisson.pmf(0,3))\n",
    "#Expected Larvae :  3.0\n",
    "#The probability that the flask contains atleast one mosquito larvae :  0.950212931632136\n",
    "#\\"
   ]
  },
  {
   "cell_type": "markdown",
   "metadata": {},
   "source": [
    "# 13. Why the need of Standardization? Why do we us Z instead of “the Number of Standard Deviations”?"
   ]
  },
  {
   "cell_type": "markdown",
   "metadata": {},
   "source": [
    "Normally Distributed random variable take on many different units of measure: rupees, cms, inches, Kg, minutes. \n",
    "By standardizing, you remove the units as such we do not require separate Normal Distribution table for each variable \n",
    "and one Standardized Distribution Table can be used for any random variable."
   ]
  },
  {
   "cell_type": "markdown",
   "metadata": {},
   "source": [
    "# 14. A radar unit is used to measure speeds of cars on a Mumbai – Pune Highway. The speeds are normally distributed with a mean of 70 km/hr and a standard deviation of 10 km/hr.\n",
    "\n",
    "a)What is the probability that a car picked at random is travelling at more than 100 km/hr?\n",
    "\n",
    "b)What is the probability that the car speed is between 80 Km / hr and 100 Km / hr\n",
    "\n",
    "Hint: You can make use of Excel"
   ]
  },
  {
   "cell_type": "code",
   "execution_count": 39,
   "metadata": {},
   "outputs": [
    {
     "name": "stdout",
     "output_type": "stream",
     "text": [
      "3.0\n",
      "0.0013498980316301035\n",
      "1.0\n",
      "0.15730535589982697\n"
     ]
    }
   ],
   "source": [
    "mean = 70\n",
    "sd = 10\n",
    "z = (100 - 70)/10\n",
    "print(z)\n",
    "p1 = 1-stats.norm.cdf(z)\n",
    "print(p1)\n",
    "\n",
    "z1 = (80-70)/10\n",
    "print(z1)\n",
    "p2 = stats.norm.cdf(z) - stats.norm.cdf(z1)\n",
    "print(p2)\n",
    "\n",
    "#part a: 0.0013498980316301035\n",
    "#part b: 0.15730535589982697"
   ]
  },
  {
   "cell_type": "markdown",
   "metadata": {},
   "source": [
    "# 15. The percentage of orders filled correctly at Wendy's was approximately 86.8%. Suppose that you go to drive-through window at Wendy's and place an order. Two friends of yours independently place orders at the drive-through window at the same Wendy's.\n",
    "\n",
    "What are the probabilities that\n",
    "\n",
    "a) all three filled correctly?\n",
    "\n",
    "b) none of the three filled correctly?\n",
    "\n",
    "c) atleast two of the three orders will be filled correctly?\n",
    "\n",
    "d) what is the mean and standard deviation of the orders filled correctly?"
   ]
  },
  {
   "cell_type": "markdown",
   "metadata": {},
   "source": [
    "n = 3\n",
    "a = p(3)\n",
    "b = p(0)\n",
    "c = p(2) + p(3)\n",
    "d = mean and sd\n",
    "mean = n*p\n",
    "sd = sqrt(lambda)"
   ]
  },
  {
   "cell_type": "code",
   "execution_count": 44,
   "metadata": {},
   "outputs": [
    {
     "name": "stdout",
     "output_type": "stream",
     "text": [
      "0.653972032\n",
      "0.002299968\n",
      "0.9523279359999999\n",
      "0.952327936\n"
     ]
    }
   ],
   "source": [
    "mean \n",
    "a = stats.binom.pmf(3,3,0.868)\n",
    "print(a)\n",
    "b = stats.binom.pmf(0,3,0.868)\n",
    "print(b)\n",
    "c = stats.binom.pmf(2,3,0.868) + stats.binom.pmf(3,3,0.868)\n",
    "print(c)\n",
    "#print('mean:',)\n",
    "print(1-(stats.binom.pmf(0,3,0.868)+stats.binom.pmf(1,3,0.868)))"
   ]
  },
  {
   "cell_type": "code",
   "execution_count": 49,
   "metadata": {},
   "outputs": [
    {
     "name": "stdout",
     "output_type": "stream",
     "text": [
      "2.604\n",
      "0.5862832080146932\n"
     ]
    }
   ],
   "source": [
    "mean = 3*0.868\n",
    "print(mean)\n",
    "print(np.sqrt(3*0.868*(1-0.868)))"
   ]
  },
  {
   "cell_type": "code",
   "execution_count": null,
   "metadata": {},
   "outputs": [],
   "source": []
  }
 ],
 "metadata": {
  "kernelspec": {
   "display_name": "Python 3",
   "language": "python",
   "name": "python3"
  },
  "language_info": {
   "codemirror_mode": {
    "name": "ipython",
    "version": 3
   },
   "file_extension": ".py",
   "mimetype": "text/x-python",
   "name": "python",
   "nbconvert_exporter": "python",
   "pygments_lexer": "ipython3",
   "version": "3.6.10"
  }
 },
 "nbformat": 4,
 "nbformat_minor": 2
}
