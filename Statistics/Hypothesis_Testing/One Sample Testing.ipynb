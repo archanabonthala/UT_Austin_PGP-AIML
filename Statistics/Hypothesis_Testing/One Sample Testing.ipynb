{
 "cells": [
  {
   "cell_type": "code",
   "execution_count": 1,
   "metadata": {},
   "outputs": [],
   "source": [
    "import numpy as np\n",
    "from scipy.stats import ttest_1samp, wilcoxon\n",
    "from statsmodels.stats.power import ttest_power"
   ]
  },
  {
   "cell_type": "markdown",
   "metadata": {},
   "source": [
    "### `Wilcoxon`\n",
    "- The **one-sample Wilcoxon** signed-rank test is a non-parametric alternative to a one-sample t-test when the data cannot be assumed to be normally distributed. It's used to determine whether the median of the sample is equal to a known standard value (i.e. theoretical value).\n",
    "\n",
    "\n",
    "### `Power of test`\n",
    "- The **power of a binary hypothesis test** is the probability that the test rejects the null hypothesis (H0) when a specific alternative hypothesis (H1) is true — i.e., it indicates the probability of making a type II error. The statistical power ranges from 0 to 1, and as statistical power increases, the probability of making a type II error (wrongly failing to reject the null hypothesis) decreases.\n",
    "\n",
    "**Power** = 1 − β = 1 − P(type II error) "
   ]
  },
  {
   "cell_type": "code",
   "execution_count": 2,
   "metadata": {},
   "outputs": [],
   "source": [
    "# daily intake of energy in kJ for 11 women\n",
    "daily_intake = np.array([5260,5470,5640,6180,6390,6515,\n",
    "                         6805,7515,7515,8230,8770])"
   ]
  },
  {
   "cell_type": "code",
   "execution_count": 3,
   "metadata": {},
   "outputs": [
    {
     "name": "stdout",
     "output_type": "stream",
     "text": [
      "-2.8207540608310198 0.018137235176105812\n"
     ]
    }
   ],
   "source": [
    "# one sample t-test\n",
    "# null hypothesis: expected value = 7725\n",
    "t_statistic, p_value = ttest_1samp(daily_intake, 7725)\n",
    "print(t_statistic,p_value)"
   ]
  },
  {
   "cell_type": "code",
   "execution_count": 4,
   "metadata": {},
   "outputs": [
    {
     "name": "stdout",
     "output_type": "stream",
     "text": [
      "-2.8207540608310198\n"
     ]
    }
   ],
   "source": [
    "daily_intake = np.array([5260,5470,5640,6180,6390,6515,\n",
    "                         6805,7515,7515,8230,8770])\n",
    "mue = 7725\n",
    "Tstatic = (np.mean(daily_intake) - mue)/(np.std(daily_intake,ddof=1)/np.sqrt(11))\n",
    "print(Tstatic)"
   ]
  },
  {
   "cell_type": "markdown",
   "metadata": {},
   "source": [
    "## Question_1\n",
    "## How is t-statistic calculated(ttest_1samp) in above block(block_3). what is the formula used here? Manual numpy calc is not matching with answer. \n",
    "\n",
    "From the videos, I see the formula for t-statistic as \n",
    "(x_bar - mue)/(std_pop/sqrt(size of sample))\n",
    "\n",
    "I calculated in two ways as shown below block . I did not get -2.8207540608310198 in both ways.\n",
    "(please see z1,z2 in below block)\n",
    "Also how is p_value(0.018137235176105812) calculated in the above example. Please explain.\n",
    "\n",
    "## Question 2:\n",
    "why in block 7, sqrt(n) not used in denominator.\n",
    "\n"
   ]
  },
  {
   "cell_type": "code",
   "execution_count": 9,
   "metadata": {},
   "outputs": [
    {
     "name": "stdout",
     "output_type": "stream",
     "text": [
      "-2.9584318175114594\n",
      "-0.8920007551395173\n",
      "-2.82075406083102\n",
      "-2.8207540608310198\n",
      "-2.8207540608310198\n",
      "-2.8207540608310198 0.018137235176105812\n"
     ]
    }
   ],
   "source": [
    "daily_intake = np.array([5260,5470,5640,6180,6390,6515,\n",
    "                         6805,7515,7515,8230,8770])\n",
    "mue = 7725\n",
    "z1 = (np.mean(daily_intake) - mue)/(np.std(daily_intake)/np.sqrt(11))\n",
    "print(z1)\n",
    "\n",
    "z2 = (np.mean(daily_intake) - mue)/(np.std(daily_intake))\n",
    "print(z2)\n",
    "\n",
    "mue = 7725\n",
    "z1 = (np.mean(daily_intake) - mue)/(np.std(daily_intake)/np.sqrt(10))\n",
    "print(z1)\n",
    "\n",
    "\n",
    "mue = 7725\n",
    "z1 = (np.mean(daily_intake) - mue)/(np.std(daily_intake,ddof=1)/np.sqrt(11))\n",
    "print(z1)\n",
    "\n",
    "mue = 7725\n",
    "z1 = (np.mean(daily_intake) - mue)/(np.std(daily_intake,ddof=1)/np.sqrt(11))\n",
    "print(z1)\n",
    "\n",
    "\n",
    "t_statistic, p_value = ttest_1samp(daily_intake, 7725)\n",
    "print(t_statistic,p_value)"
   ]
  },
  {
   "cell_type": "code",
   "execution_count": 5,
   "metadata": {},
   "outputs": [
    {
     "name": "stdout",
     "output_type": "stream",
     "text": [
      "one-sample t-test p-value= 0.018137235176105812\n"
     ]
    }
   ],
   "source": [
    "# p_value < 0.05 => alternative hypothesis:\n",
    "# data deviate significantly from the hypothesis that the mean\n",
    "# is 7725 at the 5% level of significance\n",
    "print (\"one-sample t-test p-value=\", p_value)"
   ]
  },
  {
   "cell_type": "code",
   "execution_count": 6,
   "metadata": {},
   "outputs": [
    {
     "name": "stdout",
     "output_type": "stream",
     "text": [
      "one-sample wilcoxon-test p-value 0.0244140625\n"
     ]
    }
   ],
   "source": [
    "# one sample wilcoxon-test\n",
    "z_statistic, p_value = wilcoxon(daily_intake - 7725)\n",
    "print (\"one-sample wilcoxon-test p-value\", p_value)"
   ]
  },
  {
   "cell_type": "code",
   "execution_count": 7,
   "metadata": {},
   "outputs": [
    {
     "data": {
      "text/plain": [
       "-0.8920007551395173"
      ]
     },
     "execution_count": 7,
     "metadata": {},
     "output_type": "execute_result"
    }
   ],
   "source": [
    "# Calculating Power of Test\n",
    "# Compute the difference in Means between Population and Sample and divide it by Standard Deviation\n",
    "# Set the number of Observations\n",
    "# Set the alpha value and alternative values 'two-sided' , 'larger' , 'smaller'\n",
    "\n",
    "(np.mean(daily_intake) - 7725) / np.std(daily_intake)"
   ]
  },
  {
   "cell_type": "code",
   "execution_count": 8,
   "metadata": {},
   "outputs": [
    {
     "name": "stdout",
     "output_type": "stream",
     "text": [
      "0.760014659598261\n"
     ]
    }
   ],
   "source": [
    "print(ttest_power(-0.892, nobs=11, alpha=0.05, alternative='two-sided'))"
   ]
  },
  {
   "cell_type": "code",
   "execution_count": null,
   "metadata": {},
   "outputs": [],
   "source": []
  }
 ],
 "metadata": {
  "kernelspec": {
   "display_name": "Python 3",
   "language": "python",
   "name": "python3"
  },
  "language_info": {
   "codemirror_mode": {
    "name": "ipython",
    "version": 3
   },
   "file_extension": ".py",
   "mimetype": "text/x-python",
   "name": "python",
   "nbconvert_exporter": "python",
   "pygments_lexer": "ipython3",
   "version": "3.8.3"
  }
 },
 "nbformat": 4,
 "nbformat_minor": 2
}
