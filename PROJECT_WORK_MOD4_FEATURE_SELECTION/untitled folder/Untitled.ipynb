{
 "cells": [
  {
   "cell_type": "code",
   "execution_count": null,
   "metadata": {},
   "outputs": [],
   "source": [
    "for lr_model in LR_models:\n",
    "    print(lr_model)\n",
    "    scoring = \"recall\"\n",
    "    kfold = StratifiedKFold(\n",
    "        n_splits=3, shuffle=True, random_state=1)  # Setting number of splits equal to 5\n",
    "    if lr_model==LR1:\n",
    "        cv_result = cross_val_score(\n",
    "                estimator=lr_model, X=X_train, y=y_train, scoring=scoring, cv=kfold\n",
    "                )\n",
    "        lr_cv_results.append(cv_result.mean())\n",
    "    if lr_model==LR3:\n",
    "        cv_result = cross_val_score(\n",
    "                estimator=lr_model, X=X_train_down, y=y_train_down, scoring=scoring, cv=kfold\n",
    "                )\n",
    "        lr_cv_results.append(cv_result.mean())\n",
    "    else:\n",
    "        cv_result = cross_val_score(\n",
    "            estimator=lr_model, X=X_train_over, y=y_train_over, scoring=scoring, cv=kfold\n",
    "            )\n",
    "        lr_cv_results.append(cv_result.mean())\n",
    "lr_cv_results"
   ]
  }
 ],
 "metadata": {
  "kernelspec": {
   "display_name": "Python 3",
   "language": "python",
   "name": "python3"
  },
  "language_info": {
   "codemirror_mode": {
    "name": "ipython",
    "version": 3
   },
   "file_extension": ".py",
   "mimetype": "text/x-python",
   "name": "python",
   "nbconvert_exporter": "python",
   "pygments_lexer": "ipython3",
   "version": "3.8.3"
  }
 },
 "nbformat": 4,
 "nbformat_minor": 4
}
