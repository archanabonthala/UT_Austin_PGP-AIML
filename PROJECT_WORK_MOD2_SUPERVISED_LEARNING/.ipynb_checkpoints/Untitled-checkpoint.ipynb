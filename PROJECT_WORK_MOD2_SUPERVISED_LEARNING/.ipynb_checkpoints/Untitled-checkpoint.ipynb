{
 "cells": [
  {
   "cell_type": "markdown",
   "metadata": {},
   "source": [
    "Project: Problem Statement - Personal Loan Campaign Modelling\n",
    "Thera Bank Personal Loan Campaign\n",
    " \n",
    "Data Description:\n",
    "The dataset contains data on 5000 customers. The data include customer demographic information (age, income, etc.), the customer's relationship with the bank (mortgage, securities account, etc.), and the customer response to the last personal loan campaign (Personal Loan). Among these 5000 customers, only 480 (= 9.6%) accepted the personal loan that was offered to them in the earlier campaign.\n",
    "\n",
    " \n",
    "\n",
    "Domain:\n",
    "Banking\n",
    "\n",
    " \n",
    "\n",
    "Context:\n",
    "This case is about a bank (Thera Bank) whose management wants to explore ways of converting its liability customers to personal loan customers (while retaining them as depositors). A campaign that the bank ran last year for liability customers showed a healthy conversion rate of over 9% success. This has encouraged the retail marketing department to devise campaigns with better target marketing to increase the success ratio with a minimal budget.\n",
    "\n",
    "Attribute Information:\n",
    "ID: Customer ID\n",
    "Age: Customer's age in completed years\n",
    "Experience: #years of professional experience\n",
    "Income: Annual income of the customer ($000)\n",
    "ZIP Code: Home Address ZIP\n",
    "Family: Family size of the customer\n",
    "CCAvg: Avg. spending on credit cards per month ($000)\n",
    "Education: Education Level. 1: Undergrad; 2: Graduate; 3: Advanced/Professional\n",
    "Mortgage: Value of house mortgage if any. ($000)\n",
    "Personal Loan: Did this customer accept the personal loan offered in the last campaign?\n",
    "Securities Account: Does the customer have a securities account with the bank?\n",
    "CD Account: Does the customer have a certificate of deposit (CD) account with the bank?\n",
    "Online: Does the customer use internet banking facilities?\n",
    "Credit card: Does the customer use a credit card issued by the bank?\n",
    " \n",
    "\n",
    "Learning Outcomes:\n",
    "Exploratory Data Analysis\n",
    "Preparing the data to train a model\n",
    "Training and making predictions using a classification model\n",
    "Model evaluation\n",
    " \n",
    "\n",
    "Objective:\n",
    "The classification goal is to predict the likelihood of a liability customer buying personal loans.\n",
    "\n",
    " \n",
    "\n",
    "Steps and tasks:\n",
    "Import the datasets and libraries, check datatype, statistical summary, shape, null values or incorrect imputation. (5 marks)\n",
    "EDA: Study the data distribution in each attribute and target variable, share your findings (20 marks)\n",
    "Number of unique in each column?\n",
    "Number of people with zero mortgage?\n",
    "Number of people with zero credit card spending per month?\n",
    "Value counts of all categorical columns.\n",
    "Univariate and Bivariate\n",
    "Get data model ready\n",
    "Split the data into training and test set in the ratio of 70:30 respectively (5 marks)\n",
    "Use the Logistic Regression model to predict whether the customer will take a personal loan or not. Print all the metrics related to evaluating the model performance (accuracy, recall, precision, f1score, and roc_auc_score). Draw a heatmap to display confusion matrix (15 marks)\n",
    "Find out coefficients of all the attributes and show the output in a data frame with column names? For test data show all the rows where the predicted class is not equal to the observed class. (10 marks)\n",
    "Give conclusion related to the Business understanding of your model? (5 marks)"
   ]
  }
 ],
 "metadata": {
  "kernelspec": {
   "display_name": "Python 3",
   "language": "python",
   "name": "python3"
  },
  "language_info": {
   "codemirror_mode": {
    "name": "ipython",
    "version": 3
   },
   "file_extension": ".py",
   "mimetype": "text/x-python",
   "name": "python",
   "nbconvert_exporter": "python",
   "pygments_lexer": "ipython3",
   "version": "3.6.10"
  }
 },
 "nbformat": 4,
 "nbformat_minor": 4
}
